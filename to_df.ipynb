{
 "cells": [
  {
   "cell_type": "code",
   "execution_count": 2,
   "metadata": {},
   "outputs": [],
   "source": [
    "import pandas as pd"
   ]
  },
  {
   "cell_type": "code",
   "execution_count": 4,
   "metadata": {},
   "outputs": [],
   "source": [
    "df=pd.read_csv('icrl\\output.csv')"
   ]
  },
  {
   "cell_type": "code",
   "execution_count": 5,
   "metadata": {},
   "outputs": [
    {
     "data": {
      "text/html": [
       "<div>\n",
       "<style scoped>\n",
       "    .dataframe tbody tr th:only-of-type {\n",
       "        vertical-align: middle;\n",
       "    }\n",
       "\n",
       "    .dataframe tbody tr th {\n",
       "        vertical-align: top;\n",
       "    }\n",
       "\n",
       "    .dataframe thead th {\n",
       "        text-align: right;\n",
       "    }\n",
       "</style>\n",
       "<table border=\"1\" class=\"dataframe\">\n",
       "  <thead>\n",
       "    <tr style=\"text-align: right;\">\n",
       "      <th></th>\n",
       "      <th>name</th>\n",
       "      <th>price</th>\n",
       "      <th>link</th>\n",
       "    </tr>\n",
       "  </thead>\n",
       "  <tbody>\n",
       "    <tr>\n",
       "      <th>0</th>\n",
       "      <td>OnePlus Nord CE 3 Lite 5G (Chromatic Gray, 8GB...</td>\n",
       "      <td>19,999</td>\n",
       "      <td>https://www.amazon.in/OnePlus-Nord-Chromatic-1...</td>\n",
       "    </tr>\n",
       "    <tr>\n",
       "      <th>1</th>\n",
       "      <td>OnePlus Nord CE 3 Lite 5G (Pastel Lime, 8GB RA...</td>\n",
       "      <td>19,999</td>\n",
       "      <td>https://www.amazon.in/OnePlus-Nord-Pastel-128G...</td>\n",
       "    </tr>\n",
       "    <tr>\n",
       "      <th>2</th>\n",
       "      <td>Samsung Galaxy M13 (Aqua Green, 4GB, 64GB Stor...</td>\n",
       "      <td>10,999</td>\n",
       "      <td>https://www.amazon.in/Samsung-Galaxy-Storage-6...</td>\n",
       "    </tr>\n",
       "    <tr>\n",
       "      <th>3</th>\n",
       "      <td>OnePlus Nord CE 2 Lite 5G (Blue Tide, 6GB RAM,...</td>\n",
       "      <td>18,990</td>\n",
       "      <td>https://www.amazon.in/OnePlus-Nord-Lite-128GB-...</td>\n",
       "    </tr>\n",
       "    <tr>\n",
       "      <th>4</th>\n",
       "      <td>iQOO Z7 5G by vivo (Norway Blue, 6GB RAM, 128G...</td>\n",
       "      <td>18,999</td>\n",
       "      <td>https://www.amazon.in/iQOO-Dimensity-Processor...</td>\n",
       "    </tr>\n",
       "  </tbody>\n",
       "</table>\n",
       "</div>"
      ],
      "text/plain": [
       "                                                name   price  \\\n",
       "0  OnePlus Nord CE 3 Lite 5G (Chromatic Gray, 8GB...  19,999   \n",
       "1  OnePlus Nord CE 3 Lite 5G (Pastel Lime, 8GB RA...  19,999   \n",
       "2  Samsung Galaxy M13 (Aqua Green, 4GB, 64GB Stor...  10,999   \n",
       "3  OnePlus Nord CE 2 Lite 5G (Blue Tide, 6GB RAM,...  18,990   \n",
       "4  iQOO Z7 5G by vivo (Norway Blue, 6GB RAM, 128G...  18,999   \n",
       "\n",
       "                                                link  \n",
       "0  https://www.amazon.in/OnePlus-Nord-Chromatic-1...  \n",
       "1  https://www.amazon.in/OnePlus-Nord-Pastel-128G...  \n",
       "2  https://www.amazon.in/Samsung-Galaxy-Storage-6...  \n",
       "3  https://www.amazon.in/OnePlus-Nord-Lite-128GB-...  \n",
       "4  https://www.amazon.in/iQOO-Dimensity-Processor...  "
      ]
     },
     "execution_count": 5,
     "metadata": {},
     "output_type": "execute_result"
    }
   ],
   "source": [
    "df.head()"
   ]
  }
 ],
 "metadata": {
  "kernelspec": {
   "display_name": "Python 3",
   "language": "python",
   "name": "python3"
  },
  "language_info": {
   "codemirror_mode": {
    "name": "ipython",
    "version": 3
   },
   "file_extension": ".py",
   "mimetype": "text/x-python",
   "name": "python",
   "nbconvert_exporter": "python",
   "pygments_lexer": "ipython3",
   "version": "3.10.4"
  },
  "orig_nbformat": 4
 },
 "nbformat": 4,
 "nbformat_minor": 2
}
